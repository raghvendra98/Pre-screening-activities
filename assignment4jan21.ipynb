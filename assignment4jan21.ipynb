{
 "cells": [
  {
   "cell_type": "markdown",
   "metadata": {},
   "source": [
    "# Programming Task"
   ]
  },
  {
   "cell_type": "code",
   "execution_count": 7,
   "metadata": {},
   "outputs": [],
   "source": [
    "lines=\"\"\" Dr. A.P.J. Abdul Kalam's involvement in the Nuclear Power in India earned him \n",
    "the title \"Missile Man of India\". Due to his contribution, the government of India\n",
    "awarded him the highest civilian award. Let us tell you that Union Minister for Information and Broadcasting, \n",
    "Prakash Javadekar released the first look of the biopic of Dr. A.P.J Abdul Kalam in New Delhi on 9 February 2020. \n",
    "The title of the film is APJ Abdul Kalam: The Missile Man.\n",
    "It is a joint venture between Hollywood and Telugu film industry and will release by the end of 2020. \n",
    "Dr. A.P.J. Abdul Kalam was born on 15 October 1931. His birth anniversary is observed as World Students' Day. \n",
    "He was the President of India from 2002 to 2007. He was honoured with several prestigious awards including India's\n",
    "highest civilian honour \"Bharat Ratna\" in 1997. He was born in Dhanushkodi, \n",
    "Rameswaram, Tamil Nadu, and studied physics and aerospace engineering.\n",
    "He was the 11th president of India and elected against Lakshmi Sehgal in 2002. Before becoming the President of India,\n",
    "he worked with the\n",
    "Indian Space Research Organisation (ISRO) and Defence Research and Development Organisation (DRDO) as an aerospace engineer.\n",
    "He was known as the Missile Man of India for his important role in the nation's civilian space programme and military\n",
    "missile development.\n",
    "Also, in 1998, he made significant contributions to India's Pokhran-II nuclear tests.\n",
    "During his third year of graduation, he was assigned a project to design a low-level attack aircraft together with a\n",
    "few other students. Their teacher had given them a tight deadline for completing the project, it was very difficult. Kalam worked hard under immense pressure\n",
    "and finally completed his project within the stipulated deadline. The teacher was impressed by the dedication of Kalam.\"\"\""
   ]
  },
  {
   "cell_type": "markdown",
   "metadata": {},
   "source": [
    "## The Whitespace Delimited Word Count"
   ]
  },
  {
   "cell_type": "code",
   "execution_count": 11,
   "metadata": {},
   "outputs": [
    {
     "name": "stdout",
     "output_type": "stream",
     "text": [
      "299\n"
     ]
    }
   ],
   "source": [
    "count=0\n",
    "for i in lines:\n",
    "    if(i.isspace()):\n",
    "        count=count+1\n",
    "print(count)"
   ]
  },
  {
   "cell_type": "markdown",
   "metadata": {},
   "source": [
    "## The Average no. of Latters per Word"
   ]
  },
  {
   "cell_type": "code",
   "execution_count": 12,
   "metadata": {},
   "outputs": [],
   "source": [
    "words = lines.split()\n",
    "average = sum(len(word) for word in words) / len(words)"
   ]
  },
  {
   "cell_type": "code",
   "execution_count": 10,
   "metadata": {},
   "outputs": [
    {
     "name": "stdout",
     "output_type": "stream",
     "text": [
      "5.1\n"
     ]
    }
   ],
   "source": [
    "print(\"{:.1f}\".format(average))"
   ]
  },
  {
   "cell_type": "markdown",
   "metadata": {},
   "source": [
    "## The Line Count"
   ]
  },
  {
   "cell_type": "code",
   "execution_count": 21,
   "metadata": {},
   "outputs": [
    {
     "name": "stdout",
     "output_type": "stream",
     "text": [
      "54\n"
     ]
    }
   ],
   "source": [
    "file = open(\"drapj.txt\",encoding=\"utf8\") \n",
    "Count = 0\n",
    "list = file.read() \n",
    "Colm_Lst = list.split(\"\\n\") \n",
    "for i in Colm_Lst: \n",
    "    if i: \n",
    "        Count += 1\n",
    "print(Count)"
   ]
  },
  {
   "cell_type": "code",
   "execution_count": null,
   "metadata": {},
   "outputs": [],
   "source": []
  }
 ],
 "metadata": {
  "kernelspec": {
   "display_name": "Python 3",
   "language": "python",
   "name": "python3"
  },
  "language_info": {
   "codemirror_mode": {
    "name": "ipython",
    "version": 3
   },
   "file_extension": ".py",
   "mimetype": "text/x-python",
   "name": "python",
   "nbconvert_exporter": "python",
   "pygments_lexer": "ipython3",
   "version": "3.8.3"
  }
 },
 "nbformat": 4,
 "nbformat_minor": 4
}
